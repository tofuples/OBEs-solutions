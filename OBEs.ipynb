{
 "cells": [
  {
   "cell_type": "code",
   "execution_count": 6,
   "metadata": {},
   "outputs": [],
   "source": [
    "import numpy as np \n",
    "import sympy\n",
    "import scipy\n"
   ]
  },
  {
   "cell_type": "markdown",
   "metadata": {},
   "source": [
    "Setting up a function to create the density matrix $\\hat\\rho$. Given a numer of levels, this function returns a matrix populated with Sympy symbolic objetcs wich will allow us to set up the equations and manipulate the terms."
   ]
  },
  {
   "cell_type": "code",
   "execution_count": 7,
   "metadata": {},
   "outputs": [],
   "source": [
    "def create_rho_list(levels = 3):\n",
    "    rho_list = []\n",
    "    for i in range(levels):\n",
    "        for j in range(levels):\n",
    "            rho_list.append(sympy.Symbol('rho_'+str(i+1)+str(j+1)))\n",
    "    return rho_list"
   ]
  },
  {
   "cell_type": "code",
   "execution_count": 8,
   "metadata": {},
   "outputs": [
    {
     "name": "stdout",
     "output_type": "stream",
     "text": [
      "[rho_11, rho_12, rho_13, rho_21, rho_22, rho_23, rho_31, rho_32, rho_33]\n"
     ]
    }
   ],
   "source": [
    "print(create_rho_list())"
   ]
  },
  {
   "cell_type": "code",
   "execution_count": 9,
   "metadata": {},
   "outputs": [],
   "source": [
    "def create_rho_matrix(levels=3):\n",
    "    rho_matrix = np.empty((levels, levels), dtype = 'object')\n",
    "    for i in range(levels):\n",
    "        for j in range(levels):\n",
    "            rho_matrix[i,j]=(sympy.Symbol('rho_'+str(i+1)+str(j+1)))\n",
    "            \n",
    "    return np.matrix(rho_matrix)"
   ]
  },
  {
   "cell_type": "code",
   "execution_count": 10,
   "metadata": {},
   "outputs": [
    {
     "name": "stdout",
     "output_type": "stream",
     "text": [
      "[[rho_11 rho_12 rho_13]\n",
      " [rho_21 rho_22 rho_23]\n",
      " [rho_31 rho_32 rho_33]]\n"
     ]
    }
   ],
   "source": [
    "print(create_rho_matrix())"
   ]
  },
  {
   "cell_type": "markdown",
   "metadata": {},
   "source": [
    "Setting up the Hamiltonian for any n-level ladder system where each level is only coupled to the levels directle above and velow it (the ladder system).\n"
   ]
  },
  {
   "cell_type": "code",
   "execution_count": 17,
   "metadata": {},
   "outputs": [],
   "source": [
    "def Hamiltonian(Omegas, Deltas):\n",
    "    levels = len(Omegas)+1\n",
    "    H = np.zeros((levels, levels))\n",
    "    for i in range(levels):\n",
    "        for j in range(levels):\n",
    "            if i==j and i!=0:\n",
    "                H[i,j] = -2*(np.sum(Deltas[:i]))\n",
    "            elif np.abs(i-j) == 1:\n",
    "                H[i,j] = Omegas[np.min([i,j])]\n",
    "                \n",
    "    return np.matrix(H/2)"
   ]
  },
  {
   "cell_type": "code",
   "execution_count": 18,
   "metadata": {},
   "outputs": [
    {
     "name": "stdout",
     "output_type": "stream",
     "text": [
      "[[ 0.   0.5  0. ]\n",
      " [ 0.5 -2.   1.5]\n",
      " [ 0.   1.5 -6. ]]\n"
     ]
    }
   ],
   "source": [
    "Omegas = [1,3]\n",
    "Deltas = [2,4]\n",
    "H = Hamiltonian(Omegas, Deltas)\n",
    "print(H)"
   ]
  },
  {
   "cell_type": "markdown",
   "metadata": {},
   "source": [
    "### Decay and Dephasing \n",
    "Next we set up the matrix form of the decay operator $\\hat{\\mathcal{L}}$. The decay operator will be split into two separate parts for simplicty: the atomic decay $\\hat{L}_{\\rm{atom}}$ and the dephasing due to the finite linewidths of the driving fields $\\hat{L}_{\\rm{dephasing}}$. The total operator will then be the sum of these parts $\\hat{\\mathcal{L}} = \\hat{L}_{\\rm{atom}} + \\hat{L}_{\\rm{dephasing}}$.\n",
    "\n",
    "##### Linblad superoperator $\\hat{L}_{\\rm{atom}}$ describing spontaneous decay:\n",
    "Assuming that each level can only decay to the level below it at a rate $\\Gamma_n$, and that there is no decay out of the bottom level, the coherences (off-diagonal elements) will be as $L_{ij,\\, i\\neq j} = -\\frac{\\Gamma_i + \\Gamma_j}{2}\\rho_{ij}$ while the populations (diagonal elements) will be given by $L_{ij, \\, i=j} = \\Gamma_{i+1}\\rho_{i+1, j+1} - \\Gamma_{i}\\rho_{ij}$. This means that for a 3-level system we have\n",
    "\n",
    "$$\\hat{L}_{\\rm{atom}} = \\begin{pmatrix} \n",
    "\\Gamma_2 \\rho_{22} - \\Gamma_1\\rho_{11} & - \\frac{\\Gamma_1 + \\Gamma_2}{2}\\rho_{12} & -\\frac{\\Gamma_1 + \\Gamma_3}{2}\\rho_{13} \\\\ \n",
    "-\\frac{\\Gamma_2 + \\Gamma_1}{2}\\rho_{21} & \\Gamma_3 \\rho_{33} - \\Gamma_2\\rho_{22} & -\\frac{\\Gamma_2 + \\Gamma_3}{2}\\rho_{23} \\\\\n",
    "-\\frac{\\Gamma_3 + \\Gamma_1}{2}\\rho_{31} & -\\frac{\\Gamma_3 + \\Gamma_2}{2}\\rho_{32} &  - \\Gamma_3\\rho_{33} \\end{pmatrix}$$\n",
    "Making the assumption that there is no decay out of the lower level ($\\Gamma_1 = 0$) simplifies the expression to \n",
    "$$\\hat{L}_{\\rm{atom}} = \\begin{pmatrix} \n",
    "\\Gamma_2 \\rho_{22} & - \\frac{\\Gamma_2}{2}\\rho_{12} & -\\frac{\\Gamma_3}{2}\\rho_{13} \\\\ \n",
    "-\\frac{\\Gamma_2}{2}\\rho_{21} & \\Gamma_3 \\rho_{33} - \\Gamma_2\\rho_{22} & -\\frac{\\Gamma_2 + \\Gamma_3}{2}\\rho_{23} \\\\\n",
    "-\\frac{\\Gamma_3}{2}\\rho_{31} & -\\frac{\\Gamma_3 + \\Gamma_2}{2}\\rho_{32} &  - \\Gamma_3\\rho_{33} \\end{pmatrix}$$\n"
   ]
  },
  {
   "cell_type": "markdown",
   "metadata": {},
   "source": []
  }
 ],
 "metadata": {
  "kernelspec": {
   "display_name": "Python 3",
   "language": "python",
   "name": "python3"
  },
  "language_info": {
   "codemirror_mode": {
    "name": "ipython",
    "version": 3
   },
   "file_extension": ".py",
   "mimetype": "text/x-python",
   "name": "python",
   "nbconvert_exporter": "python",
   "pygments_lexer": "ipython3",
   "version": "3.12.4"
  }
 },
 "nbformat": 4,
 "nbformat_minor": 2
}
